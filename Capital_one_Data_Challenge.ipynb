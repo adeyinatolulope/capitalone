{
 "cells": [
  {
   "cell_type": "markdown",
   "id": "9302b851",
   "metadata": {},
   "source": [
    "# Question 1: Load"
   ]
  },
  {
   "cell_type": "code",
   "execution_count": 246,
   "id": "69b3ac98",
   "metadata": {},
   "outputs": [
    {
     "name": "stdout",
     "output_type": "stream",
     "text": [
      "   accountNumber  customerId  creditLimit  availableMoney  \\\n",
      "0      737265056   737265056         5000          5000.0   \n",
      "1      737265056   737265056         5000          5000.0   \n",
      "2      737265056   737265056         5000          5000.0   \n",
      "3      737265056   737265056         5000          5000.0   \n",
      "4      830329091   830329091         5000          5000.0   \n",
      "\n",
      "   transactionDateTime  transactionAmount         merchantName acqCountry  \\\n",
      "0  2016-08-13T14:27:32              98.55                 Uber         US   \n",
      "1  2016-10-11T05:05:54              74.51          AMC #191138         US   \n",
      "2  2016-11-08T09:18:39               7.47           Play Store         US   \n",
      "3  2016-12-10T02:14:50               7.47           Play Store         US   \n",
      "4  2016-03-24T21:04:46              71.18  Tim Hortons #947751         US   \n",
      "\n",
      "  merchantCountryCode posEntryMode  ... echoBuffer currentBalance  \\\n",
      "0                  US           02  ...                       0.0   \n",
      "1                  US           09  ...                       0.0   \n",
      "2                  US           09  ...                       0.0   \n",
      "3                  US           09  ...                       0.0   \n",
      "4                  US           02  ...                       0.0   \n",
      "\n",
      "  merchantCity merchantState merchantZip  cardPresent  posOnPremises  \\\n",
      "0                                               False                  \n",
      "1                                                True                  \n",
      "2                                               False                  \n",
      "3                                               False                  \n",
      "4                                                True                  \n",
      "\n",
      "   recurringAuthInd expirationDateKeyInMatch isFraud  \n",
      "0                                      False   False  \n",
      "1                                      False   False  \n",
      "2                                      False   False  \n",
      "3                                      False   False  \n",
      "4                                      False   False  \n",
      "\n",
      "[5 rows x 29 columns]\n"
     ]
    }
   ],
   "source": [
    "import pandas as pd\n",
    "df = pd.read_json('transactions.json', lines = True)\n",
    "print(df.head())"
   ]
  },
  {
   "cell_type": "code",
   "execution_count": 247,
   "id": "9c2ef016",
   "metadata": {},
   "outputs": [
    {
     "data": {
      "text/plain": [
       "(786363, 29)"
      ]
     },
     "execution_count": 247,
     "metadata": {},
     "output_type": "execute_result"
    }
   ],
   "source": [
    "df.shape"
   ]
  },
  {
   "cell_type": "code",
   "execution_count": 248,
   "id": "81250bbd",
   "metadata": {},
   "outputs": [
    {
     "name": "stdout",
     "output_type": "stream",
     "text": [
      "Index(['accountNumber', 'customerId', 'creditLimit', 'availableMoney',\n",
      "       'transactionDateTime', 'transactionAmount', 'merchantName',\n",
      "       'acqCountry', 'merchantCountryCode', 'posEntryMode', 'posConditionCode',\n",
      "       'merchantCategoryCode', 'currentExpDate', 'accountOpenDate',\n",
      "       'dateOfLastAddressChange', 'cardCVV', 'enteredCVV', 'cardLast4Digits',\n",
      "       'transactionType', 'echoBuffer', 'currentBalance', 'merchantCity',\n",
      "       'merchantState', 'merchantZip', 'cardPresent', 'posOnPremises',\n",
      "       'recurringAuthInd', 'expirationDateKeyInMatch', 'isFraud'],\n",
      "      dtype='object')\n"
     ]
    }
   ],
   "source": [
    "col_names = df.columns\n",
    "print(col_names)"
   ]
  },
  {
   "cell_type": "code",
   "execution_count": 249,
   "id": "1acdecc3",
   "metadata": {},
   "outputs": [
    {
     "name": "stdout",
     "output_type": "stream",
     "text": [
      "accountNumber                 5000\n",
      "customerId                    5000\n",
      "creditLimit                     10\n",
      "availableMoney              521915\n",
      "transactionDateTime         776637\n",
      "transactionAmount            66038\n",
      "merchantName                  2490\n",
      "acqCountry                       5\n",
      "merchantCountryCode              5\n",
      "posEntryMode                     6\n",
      "posConditionCode                 4\n",
      "merchantCategoryCode            19\n",
      "currentExpDate                 165\n",
      "accountOpenDate               1820\n",
      "dateOfLastAddressChange       2184\n",
      "cardCVV                        899\n",
      "enteredCVV                     976\n",
      "cardLast4Digits               5245\n",
      "transactionType                  4\n",
      "echoBuffer                       1\n",
      "currentBalance              487318\n",
      "merchantCity                     1\n",
      "merchantState                    1\n",
      "merchantZip                      1\n",
      "cardPresent                      2\n",
      "posOnPremises                    1\n",
      "recurringAuthInd                 1\n",
      "expirationDateKeyInMatch         2\n",
      "isFraud                          2\n",
      "dtype: int64\n"
     ]
    }
   ],
   "source": [
    "print(df.nunique())"
   ]
  },
  {
   "cell_type": "code",
   "execution_count": 250,
   "id": "733f4959",
   "metadata": {},
   "outputs": [
    {
     "name": "stdout",
     "output_type": "stream",
     "text": [
      "Unique values in column 'creditLimit': [ 5000  2500 50000 15000 10000   250   500  1000  7500 20000]\n",
      "Unique values in column 'acqCountry': ['US' '' 'CAN' 'MEX' 'PR']\n",
      "Unique values in column 'merchantCountryCode': ['US' 'CAN' '' 'PR' 'MEX']\n",
      "Unique values in column 'posEntryMode': ['02' '09' '05' '80' '90' '']\n",
      "Unique values in column 'posConditionCode': ['01' '08' '99' '']\n",
      "Unique values in column 'transactionType': ['PURCHASE' 'ADDRESS_VERIFICATION' 'REVERSAL' '']\n",
      "Unique values in column 'cardPresent': [False  True]\n",
      "Unique values in column 'expirationDateKeyInMatch': [False  True]\n",
      "Unique values in column 'isFraud': [False  True]\n"
     ]
    }
   ],
   "source": [
    "dat_columns=['creditLimit','acqCountry', 'merchantCountryCode', 'posEntryMode', 'posConditionCode','transactionType','cardPresent','expirationDateKeyInMatch', 'isFraud']\n",
    "# Print the unique values in each column\n",
    "for col in dat_columns:\n",
    "    print(f\"Unique values in column '{col}': {df[col].unique()}\")"
   ]
  },
  {
   "cell_type": "code",
   "execution_count": 251,
   "id": "d9e7ee9a",
   "metadata": {},
   "outputs": [
    {
     "name": "stdout",
     "output_type": "stream",
     "text": [
      "Unique values in column 'creditLimit': [ 5000  2500 50000 15000 10000   250   500  1000  7500 20000]\n",
      "Unique values in column 'acqCountry': ['US' '' 'CAN' 'MEX' 'PR']\n",
      "Unique values in column 'merchantCountryCode': ['US' 'CAN' '' 'PR' 'MEX']\n",
      "Unique values in column 'posEntryMode': ['02' '09' '05' '80' '90' '']\n",
      "Unique values in column 'posConditionCode': ['01' '08' '99' '']\n",
      "Unique values in column 'transactionType': ['PURCHASE' 'ADDRESS_VERIFICATION' 'REVERSAL' '']\n",
      "Unique values in column 'echoBuffer': ['']\n",
      "Unique values in column 'merchantCity': ['']\n",
      "Unique values in column 'merchantState': ['']\n",
      "Unique values in column 'merchantZip': ['']\n",
      "Unique values in column 'cardPresent': [False  True]\n",
      "Unique values in column 'posOnPremises': ['']\n",
      "Unique values in column 'recurringAuthInd': ['']\n",
      "Unique values in column 'expirationDateKeyInMatch': [False  True]\n",
      "Unique values in column 'isFraud': [False  True]\n"
     ]
    }
   ],
   "source": [
    "dat_columns=['creditLimit','acqCountry', 'merchantCountryCode', 'posEntryMode', 'posConditionCode','transactionType','echoBuffer', 'merchantCity',\n",
    "       'merchantState', 'merchantZip', 'cardPresent', 'posOnPremises',\n",
    "       'recurringAuthInd', 'expirationDateKeyInMatch', 'isFraud']\n",
    "# Print the unique values in each column\n",
    "for col in dat_columns:\n",
    "    print(f\"Unique values in column '{col}': {df[col].unique()}\")"
   ]
  },
  {
   "cell_type": "code",
   "execution_count": 252,
   "id": "d13c28d7",
   "metadata": {},
   "outputs": [
    {
     "name": "stdout",
     "output_type": "stream",
     "text": [
      "       accountNumber    customerId    creditLimit  availableMoney  \\\n",
      "count   7.863630e+05  7.863630e+05  786363.000000   786363.000000   \n",
      "mean    5.372326e+08  5.372326e+08   10759.464459     6250.725369   \n",
      "std     2.554211e+08  2.554211e+08   11636.174890     8880.783989   \n",
      "min     1.000881e+08  1.000881e+08     250.000000    -1005.630000   \n",
      "25%     3.301333e+08  3.301333e+08    5000.000000     1077.420000   \n",
      "50%     5.074561e+08  5.074561e+08    7500.000000     3184.860000   \n",
      "75%     7.676200e+08  7.676200e+08   15000.000000     7500.000000   \n",
      "max     9.993896e+08  9.993896e+08   50000.000000    50000.000000   \n",
      "\n",
      "       transactionAmount        cardCVV     enteredCVV  cardLast4Digits  \\\n",
      "count      786363.000000  786363.000000  786363.000000    786363.000000   \n",
      "mean          136.985791     544.467338     544.183857      4757.417799   \n",
      "std           147.725569     261.524220     261.551254      2996.583810   \n",
      "min             0.000000     100.000000       0.000000         0.000000   \n",
      "25%            33.650000     310.000000     310.000000      2178.000000   \n",
      "50%            87.900000     535.000000     535.000000      4733.000000   \n",
      "75%           191.480000     785.000000     785.000000      7338.000000   \n",
      "max          2011.540000     998.000000     998.000000      9998.000000   \n",
      "\n",
      "       currentBalance  \n",
      "count   786363.000000  \n",
      "mean      4508.739089  \n",
      "std       6457.442068  \n",
      "min          0.000000  \n",
      "25%        689.910000  \n",
      "50%       2451.760000  \n",
      "75%       5291.095000  \n",
      "max      47498.810000  \n"
     ]
    }
   ],
   "source": [
    "# Find the summary of the DataFrame\n",
    "summary = df.describe()\n",
    "\n",
    "# Print the summary\n",
    "print(summary)"
   ]
  },
  {
   "cell_type": "code",
   "execution_count": 253,
   "id": "fa4830de",
   "metadata": {},
   "outputs": [
    {
     "name": "stdout",
     "output_type": "stream",
     "text": [
      "accountNumber                 int64\n",
      "customerId                    int64\n",
      "creditLimit                   int64\n",
      "availableMoney              float64\n",
      "transactionDateTime          object\n",
      "transactionAmount           float64\n",
      "merchantName                 object\n",
      "acqCountry                   object\n",
      "merchantCountryCode          object\n",
      "posEntryMode                 object\n",
      "posConditionCode             object\n",
      "merchantCategoryCode         object\n",
      "currentExpDate               object\n",
      "accountOpenDate              object\n",
      "dateOfLastAddressChange      object\n",
      "cardCVV                       int64\n",
      "enteredCVV                    int64\n",
      "cardLast4Digits               int64\n",
      "transactionType              object\n",
      "echoBuffer                   object\n",
      "currentBalance              float64\n",
      "merchantCity                 object\n",
      "merchantState                object\n",
      "merchantZip                  object\n",
      "cardPresent                    bool\n",
      "posOnPremises                object\n",
      "recurringAuthInd             object\n",
      "expirationDateKeyInMatch       bool\n",
      "isFraud                        bool\n",
      "dtype: object\n"
     ]
    }
   ],
   "source": [
    "# Find the data types of all columns\n",
    "column_types = df.dtypes\n",
    "\n",
    "# Print the data types of all columns\n",
    "print(column_types)"
   ]
  },
  {
   "cell_type": "code",
   "execution_count": 254,
   "id": "861420ad",
   "metadata": {},
   "outputs": [],
   "source": [
    "import numpy as np\n",
    "df.replace(r'^\\s*$', np.nan, regex=True, inplace=True)"
   ]
  },
  {
   "cell_type": "code",
   "execution_count": 256,
   "id": "d7f24e31",
   "metadata": {},
   "outputs": [
    {
     "data": {
      "text/plain": [
       "accountNumber                    0\n",
       "customerId                       0\n",
       "creditLimit                      0\n",
       "availableMoney                   0\n",
       "transactionDateTime              0\n",
       "transactionAmount                0\n",
       "merchantName                     0\n",
       "acqCountry                    4562\n",
       "merchantCountryCode            724\n",
       "posEntryMode                  4054\n",
       "posConditionCode               409\n",
       "merchantCategoryCode             0\n",
       "currentExpDate                   0\n",
       "accountOpenDate                  0\n",
       "dateOfLastAddressChange          0\n",
       "cardCVV                          0\n",
       "enteredCVV                       0\n",
       "cardLast4Digits                  0\n",
       "transactionType                698\n",
       "echoBuffer                  786363\n",
       "currentBalance                   0\n",
       "merchantCity                786363\n",
       "merchantState               786363\n",
       "merchantZip                 786363\n",
       "cardPresent                      0\n",
       "posOnPremises               786363\n",
       "recurringAuthInd            786363\n",
       "expirationDateKeyInMatch         0\n",
       "isFraud                          0\n",
       "dtype: int64"
      ]
     },
     "execution_count": 256,
     "metadata": {},
     "output_type": "execute_result"
    }
   ],
   "source": [
    "#count of missing values\n",
    "df.isnull().sum()"
   ]
  },
  {
   "cell_type": "code",
   "execution_count": 257,
   "id": "0783628c",
   "metadata": {},
   "outputs": [
    {
     "name": "stdout",
     "output_type": "stream",
     "text": [
      "accountNumber                 0.00\n",
      "customerId                    0.00\n",
      "creditLimit                   0.00\n",
      "availableMoney                0.00\n",
      "transactionDateTime           0.00\n",
      "transactionAmount             0.00\n",
      "merchantName                  0.00\n",
      "acqCountry                    0.58\n",
      "merchantCountryCode           0.09\n",
      "posEntryMode                  0.52\n",
      "posConditionCode              0.05\n",
      "merchantCategoryCode          0.00\n",
      "currentExpDate                0.00\n",
      "accountOpenDate               0.00\n",
      "dateOfLastAddressChange       0.00\n",
      "cardCVV                       0.00\n",
      "enteredCVV                    0.00\n",
      "cardLast4Digits               0.00\n",
      "transactionType               0.09\n",
      "echoBuffer                  100.00\n",
      "currentBalance                0.00\n",
      "merchantCity                100.00\n",
      "merchantState               100.00\n",
      "merchantZip                 100.00\n",
      "cardPresent                   0.00\n",
      "posOnPremises               100.00\n",
      "recurringAuthInd            100.00\n",
      "expirationDateKeyInMatch      0.00\n",
      "isFraud                       0.00\n",
      "dtype: float64\n"
     ]
    }
   ],
   "source": [
    "# Calculating the percentage of missing values in each column\n",
    "def missing_values_cols(df):\n",
    "    missing_values = df.isnull().mean().round(4) * 100    \n",
    "    # Returning a DataFrame of the missing value percentages\n",
    "    return missing_values\n",
    "missing_values_cols = missing_values_cols(df)\n",
    "print(missing_values_cols)"
   ]
  },
  {
   "cell_type": "code",
   "execution_count": 258,
   "id": "49eda19a",
   "metadata": {},
   "outputs": [],
   "source": [
    "#drop columns that are 100% empty\n",
    "df = df.drop(columns=['echoBuffer', 'merchantCity',\n",
    "       'merchantState', 'merchantZip', 'posOnPremises','recurringAuthInd'])"
   ]
  },
  {
   "cell_type": "markdown",
   "id": "3cfe3fe4",
   "metadata": {},
   "source": [
    "# Question2"
   ]
  },
  {
   "cell_type": "code",
   "execution_count": 259,
   "id": "fade56d0",
   "metadata": {},
   "outputs": [
    {
     "data": {
      "image/png": "[encoded data removed]",
      "text/plain": [
       "<Figure size 432x288 with 1 Axes>"
      ]
     },
     "metadata": {
      "needs_background": "light"
     },
     "output_type": "display_data"
    }
   ],
   "source": [
    "#transactionAmount column\n",
    "import matplotlib.pyplot as plt\n",
    "\n",
    "plt.hist(df.transactionAmount, bins=100, edgecolor='black', linewidth=1.2)\n",
    "\n",
    "plt.xlabel('Values')\n",
    "plt.ylabel('Frequency')\n",
    "plt.title('Histogram of Data')\n",
    "\n",
    "plt.show()"
   ]
  },
  {
   "cell_type": "markdown",
   "id": "e17d4cdf",
   "metadata": {},
   "source": [
    " The plot is right skewed, which might imply that:\n",
    "\n",
    "Most of the transactions are relatively small in amount, with a few larger transactions driving the skew towards the right side of the plot.\n",
    "The average transaction amount might be higher than the median transaction amount, suggesting that the larger transactions are having a significant impact on the overall distribution.\n",
    "\n",
    "There could be a few individuals or organizations making significantly larger transactions than the rest of the population.\n",
    "\n",
    "There could be outliers or extreme values in the data set, which are driving the histogram plot to the right side.\n"
   ]
  },
  {
   "cell_type": "markdown",
   "id": "2946229a",
   "metadata": {},
   "source": [
    "# Question 3: Data Wrangling - Duplicate Transactions\n",
    "\n",
    "You will notice a number of what look like duplicated transactions in the data set. One type of duplicated transaction is a reversed transaction, where a purchase is followed by a reversal. Another example is a multi-swipe, where a vendor accidentally charges a customer's card multiple times within a short time span.\n",
    "\n",
    "Can you programmatically identify reversed and multi-swipe transactions?\n",
    "\n",
    "What total number of transactions and total dollar amount do you estimate for the reversed transactions? For the multi-swipe transactions? (please consider the first transaction to be \"normal\" and exclude it from the number of transaction and dollar amount counts)\n",
    "\n",
    "Did you find anything interesting about either kind of transaction?\n"
   ]
  },
  {
   "cell_type": "code",
   "execution_count": 260,
   "id": "afb2bbb0",
   "metadata": {},
   "outputs": [
    {
     "data": {
      "text/html": [
       "<div>\n",
       "<style scoped>\n",
       "    .dataframe tbody tr th:only-of-type {\n",
       "        vertical-align: middle;\n",
       "    }\n",
       "\n",
       "    .dataframe tbody tr th {\n",
       "        vertical-align: top;\n",
       "    }\n",
       "\n",
       "    .dataframe thead th {\n",
       "        text-align: right;\n",
       "    }\n",
       "</style>\n",
       "<table border=\"1\" class=\"dataframe\">\n",
       "  <thead>\n",
       "    <tr style=\"text-align: right;\">\n",
       "      <th></th>\n",
       "      <th>accountNumber</th>\n",
       "      <th>customerId</th>\n",
       "      <th>creditLimit</th>\n",
       "      <th>availableMoney</th>\n",
       "      <th>transactionAmount</th>\n",
       "      <th>merchantName</th>\n",
       "      <th>acqCountry</th>\n",
       "      <th>merchantCountryCode</th>\n",
       "      <th>posEntryMode</th>\n",
       "      <th>posConditionCode</th>\n",
       "      <th>...</th>\n",
       "      <th>dateOfLastAddressChange</th>\n",
       "      <th>cardCVV</th>\n",
       "      <th>enteredCVV</th>\n",
       "      <th>cardLast4Digits</th>\n",
       "      <th>transactionType</th>\n",
       "      <th>currentBalance</th>\n",
       "      <th>cardPresent</th>\n",
       "      <th>expirationDateKeyInMatch</th>\n",
       "      <th>isFraud</th>\n",
       "      <th>transactionDate</th>\n",
       "    </tr>\n",
       "  </thead>\n",
       "  <tbody>\n",
       "    <tr>\n",
       "      <th>0</th>\n",
       "      <td>737265056</td>\n",
       "      <td>737265056</td>\n",
       "      <td>5000</td>\n",
       "      <td>5000.0</td>\n",
       "      <td>98.55</td>\n",
       "      <td>Uber</td>\n",
       "      <td>US</td>\n",
       "      <td>US</td>\n",
       "      <td>02</td>\n",
       "      <td>01</td>\n",
       "      <td>...</td>\n",
       "      <td>2015-03-14</td>\n",
       "      <td>414</td>\n",
       "      <td>414</td>\n",
       "      <td>1803</td>\n",
       "      <td>PURCHASE</td>\n",
       "      <td>0.0</td>\n",
       "      <td>False</td>\n",
       "      <td>False</td>\n",
       "      <td>False</td>\n",
       "      <td>2016-08-13</td>\n",
       "    </tr>\n",
       "    <tr>\n",
       "      <th>1</th>\n",
       "      <td>737265056</td>\n",
       "      <td>737265056</td>\n",
       "      <td>5000</td>\n",
       "      <td>5000.0</td>\n",
       "      <td>74.51</td>\n",
       "      <td>AMC #191138</td>\n",
       "      <td>US</td>\n",
       "      <td>US</td>\n",
       "      <td>09</td>\n",
       "      <td>01</td>\n",
       "      <td>...</td>\n",
       "      <td>2015-03-14</td>\n",
       "      <td>486</td>\n",
       "      <td>486</td>\n",
       "      <td>767</td>\n",
       "      <td>PURCHASE</td>\n",
       "      <td>0.0</td>\n",
       "      <td>True</td>\n",
       "      <td>False</td>\n",
       "      <td>False</td>\n",
       "      <td>2016-10-11</td>\n",
       "    </tr>\n",
       "    <tr>\n",
       "      <th>2</th>\n",
       "      <td>737265056</td>\n",
       "      <td>737265056</td>\n",
       "      <td>5000</td>\n",
       "      <td>5000.0</td>\n",
       "      <td>7.47</td>\n",
       "      <td>Play Store</td>\n",
       "      <td>US</td>\n",
       "      <td>US</td>\n",
       "      <td>09</td>\n",
       "      <td>01</td>\n",
       "      <td>...</td>\n",
       "      <td>2015-03-14</td>\n",
       "      <td>486</td>\n",
       "      <td>486</td>\n",
       "      <td>767</td>\n",
       "      <td>PURCHASE</td>\n",
       "      <td>0.0</td>\n",
       "      <td>False</td>\n",
       "      <td>False</td>\n",
       "      <td>False</td>\n",
       "      <td>2016-11-08</td>\n",
       "    </tr>\n",
       "    <tr>\n",
       "      <th>3</th>\n",
       "      <td>737265056</td>\n",
       "      <td>737265056</td>\n",
       "      <td>5000</td>\n",
       "      <td>5000.0</td>\n",
       "      <td>7.47</td>\n",
       "      <td>Play Store</td>\n",
       "      <td>US</td>\n",
       "      <td>US</td>\n",
       "      <td>09</td>\n",
       "      <td>01</td>\n",
       "      <td>...</td>\n",
       "      <td>2015-03-14</td>\n",
       "      <td>486</td>\n",
       "      <td>486</td>\n",
       "      <td>767</td>\n",
       "      <td>PURCHASE</td>\n",
       "      <td>0.0</td>\n",
       "      <td>False</td>\n",
       "      <td>False</td>\n",
       "      <td>False</td>\n",
       "      <td>2016-12-10</td>\n",
       "    </tr>\n",
       "    <tr>\n",
       "      <th>4</th>\n",
       "      <td>830329091</td>\n",
       "      <td>830329091</td>\n",
       "      <td>5000</td>\n",
       "      <td>5000.0</td>\n",
       "      <td>71.18</td>\n",
       "      <td>Tim Hortons #947751</td>\n",
       "      <td>US</td>\n",
       "      <td>US</td>\n",
       "      <td>02</td>\n",
       "      <td>01</td>\n",
       "      <td>...</td>\n",
       "      <td>2015-08-06</td>\n",
       "      <td>885</td>\n",
       "      <td>885</td>\n",
       "      <td>3143</td>\n",
       "      <td>PURCHASE</td>\n",
       "      <td>0.0</td>\n",
       "      <td>True</td>\n",
       "      <td>False</td>\n",
       "      <td>False</td>\n",
       "      <td>2016-03-24</td>\n",
       "    </tr>\n",
       "  </tbody>\n",
       "</table>\n",
       "<p>5 rows × 23 columns</p>\n",
       "</div>"
      ],
      "text/plain": [
       "   accountNumber  customerId  creditLimit  availableMoney  transactionAmount  \\\n",
       "0      737265056   737265056         5000          5000.0              98.55   \n",
       "1      737265056   737265056         5000          5000.0              74.51   \n",
       "2      737265056   737265056         5000          5000.0               7.47   \n",
       "3      737265056   737265056         5000          5000.0               7.47   \n",
       "4      830329091   830329091         5000          5000.0              71.18   \n",
       "\n",
       "          merchantName acqCountry merchantCountryCode posEntryMode  \\\n",
       "0                 Uber         US                  US           02   \n",
       "1          AMC #191138         US                  US           09   \n",
       "2           Play Store         US                  US           09   \n",
       "3           Play Store         US                  US           09   \n",
       "4  Tim Hortons #947751         US                  US           02   \n",
       "\n",
       "  posConditionCode  ... dateOfLastAddressChange cardCVV enteredCVV  \\\n",
       "0               01  ...              2015-03-14     414        414   \n",
       "1               01  ...              2015-03-14     486        486   \n",
       "2               01  ...              2015-03-14     486        486   \n",
       "3               01  ...              2015-03-14     486        486   \n",
       "4               01  ...              2015-08-06     885        885   \n",
       "\n",
       "  cardLast4Digits  transactionType  currentBalance  cardPresent  \\\n",
       "0            1803         PURCHASE             0.0        False   \n",
       "1             767         PURCHASE             0.0         True   \n",
       "2             767         PURCHASE             0.0        False   \n",
       "3             767         PURCHASE             0.0        False   \n",
       "4            3143         PURCHASE             0.0         True   \n",
       "\n",
       "  expirationDateKeyInMatch  isFraud  transactionDate  \n",
       "0                    False    False       2016-08-13  \n",
       "1                    False    False       2016-10-11  \n",
       "2                    False    False       2016-11-08  \n",
       "3                    False    False       2016-12-10  \n",
       "4                    False    False       2016-03-24  \n",
       "\n",
       "[5 rows x 23 columns]"
      ]
     },
     "execution_count": 260,
     "metadata": {},
     "output_type": "execute_result"
    }
   ],
   "source": [
    " new = df[\"transactionDateTime\"].str.split(\"T\", n = 1, expand = True)\n",
    " \n",
    "# making separate date column from new data frame\n",
    "df[\"transactionDate\"]= new[0]\n",
    " \n",
    "# Dropping old columns\n",
    "df.drop(columns =[\"transactionDateTime\"], inplace = True)\n",
    "df.head(5)"
   ]
  },
  {
   "cell_type": "code",
   "execution_count": 261,
   "id": "abf68a9a",
   "metadata": {},
   "outputs": [
    {
     "data": {
      "text/plain": [
       "2821792.5"
      ]
     },
     "execution_count": 261,
     "metadata": {},
     "output_type": "execute_result"
    }
   ],
   "source": [
    "df_reversal=df[df[\"transactionType\"]==\"REVERSAL\"]\n",
    "df_reversal.head(10)\n",
    "df_reversal[\"transactionAmount\"].sum()\n",
    "#print(f\"The number of reversed transaction is : {df[col].unique()}\")"
   ]
  },
  {
   "cell_type": "code",
   "execution_count": 262,
   "id": "210d7438",
   "metadata": {},
   "outputs": [
    {
     "data": {
      "text/plain": [
       "20303"
      ]
     },
     "execution_count": 262,
     "metadata": {},
     "output_type": "execute_result"
    }
   ],
   "source": [
    "df_reversal[\"transactionAmount\"].count()"
   ]
  },
  {
   "cell_type": "code",
   "execution_count": 263,
   "id": "1b73b1c2",
   "metadata": {},
   "outputs": [],
   "source": [
    "import pandas as pd\n",
    "import numpy as np\n",
    "from datetime import timedelta\n",
    "\n",
    "# Group the transactions by Card_ID, Merchant_ID, and Transaction_Date\n",
    "grouped = df.groupby(['customerId', 'merchantName', 'transactionDate'])\n",
    "\n",
    "# Sort the transactions within each group by Transaction_Date\n",
    "sorted_transactions = grouped.apply(lambda x: x.sort_values('transactionDate'))"
   ]
  },
  {
   "cell_type": "code",
   "execution_count": 30,
   "id": "fc6d8a40",
   "metadata": {},
   "outputs": [
    {
     "data": {
      "text/html": [
       "<div>\n",
       "<style scoped>\n",
       "    .dataframe tbody tr th:only-of-type {\n",
       "        vertical-align: middle;\n",
       "    }\n",
       "\n",
       "    .dataframe tbody tr th {\n",
       "        vertical-align: top;\n",
       "    }\n",
       "\n",
       "    .dataframe thead th {\n",
       "        text-align: right;\n",
       "    }\n",
       "</style>\n",
       "<table border=\"1\" class=\"dataframe\">\n",
       "  <thead>\n",
       "    <tr style=\"text-align: right;\">\n",
       "      <th></th>\n",
       "      <th>accountNumber</th>\n",
       "      <th>customerId</th>\n",
       "      <th>creditLimit</th>\n",
       "      <th>availableMoney</th>\n",
       "      <th>transactionAmount</th>\n",
       "      <th>merchantName</th>\n",
       "      <th>acqCountry</th>\n",
       "      <th>merchantCountryCode</th>\n",
       "      <th>posEntryMode</th>\n",
       "      <th>posConditionCode</th>\n",
       "      <th>...</th>\n",
       "      <th>dateOfLastAddressChange</th>\n",
       "      <th>cardCVV</th>\n",
       "      <th>enteredCVV</th>\n",
       "      <th>cardLast4Digits</th>\n",
       "      <th>transactionType</th>\n",
       "      <th>currentBalance</th>\n",
       "      <th>cardPresent</th>\n",
       "      <th>expirationDateKeyInMatch</th>\n",
       "      <th>isFraud</th>\n",
       "      <th>transactionDate</th>\n",
       "    </tr>\n",
       "  </thead>\n",
       "  <tbody>\n",
       "    <tr>\n",
       "      <th>0</th>\n",
       "      <td>737265056</td>\n",
       "      <td>737265056</td>\n",
       "      <td>5000</td>\n",
       "      <td>5000.00</td>\n",
       "      <td>98.55</td>\n",
       "      <td>Uber</td>\n",
       "      <td>US</td>\n",
       "      <td>US</td>\n",
       "      <td>02</td>\n",
       "      <td>01</td>\n",
       "      <td>...</td>\n",
       "      <td>2015-03-14</td>\n",
       "      <td>414</td>\n",
       "      <td>414</td>\n",
       "      <td>1803</td>\n",
       "      <td>PURCHASE</td>\n",
       "      <td>0.00</td>\n",
       "      <td>False</td>\n",
       "      <td>False</td>\n",
       "      <td>False</td>\n",
       "      <td>2016-08-13</td>\n",
       "    </tr>\n",
       "    <tr>\n",
       "      <th>1</th>\n",
       "      <td>737265056</td>\n",
       "      <td>737265056</td>\n",
       "      <td>5000</td>\n",
       "      <td>5000.00</td>\n",
       "      <td>74.51</td>\n",
       "      <td>AMC #191138</td>\n",
       "      <td>US</td>\n",
       "      <td>US</td>\n",
       "      <td>09</td>\n",
       "      <td>01</td>\n",
       "      <td>...</td>\n",
       "      <td>2015-03-14</td>\n",
       "      <td>486</td>\n",
       "      <td>486</td>\n",
       "      <td>767</td>\n",
       "      <td>PURCHASE</td>\n",
       "      <td>0.00</td>\n",
       "      <td>True</td>\n",
       "      <td>False</td>\n",
       "      <td>False</td>\n",
       "      <td>2016-10-11</td>\n",
       "    </tr>\n",
       "    <tr>\n",
       "      <th>2</th>\n",
       "      <td>737265056</td>\n",
       "      <td>737265056</td>\n",
       "      <td>5000</td>\n",
       "      <td>5000.00</td>\n",
       "      <td>7.47</td>\n",
       "      <td>Play Store</td>\n",
       "      <td>US</td>\n",
       "      <td>US</td>\n",
       "      <td>09</td>\n",
       "      <td>01</td>\n",
       "      <td>...</td>\n",
       "      <td>2015-03-14</td>\n",
       "      <td>486</td>\n",
       "      <td>486</td>\n",
       "      <td>767</td>\n",
       "      <td>PURCHASE</td>\n",
       "      <td>0.00</td>\n",
       "      <td>False</td>\n",
       "      <td>False</td>\n",
       "      <td>False</td>\n",
       "      <td>2016-11-08</td>\n",
       "    </tr>\n",
       "    <tr>\n",
       "      <th>3</th>\n",
       "      <td>737265056</td>\n",
       "      <td>737265056</td>\n",
       "      <td>5000</td>\n",
       "      <td>5000.00</td>\n",
       "      <td>7.47</td>\n",
       "      <td>Play Store</td>\n",
       "      <td>US</td>\n",
       "      <td>US</td>\n",
       "      <td>09</td>\n",
       "      <td>01</td>\n",
       "      <td>...</td>\n",
       "      <td>2015-03-14</td>\n",
       "      <td>486</td>\n",
       "      <td>486</td>\n",
       "      <td>767</td>\n",
       "      <td>PURCHASE</td>\n",
       "      <td>0.00</td>\n",
       "      <td>False</td>\n",
       "      <td>False</td>\n",
       "      <td>False</td>\n",
       "      <td>2016-12-10</td>\n",
       "    </tr>\n",
       "    <tr>\n",
       "      <th>4</th>\n",
       "      <td>830329091</td>\n",
       "      <td>830329091</td>\n",
       "      <td>5000</td>\n",
       "      <td>5000.00</td>\n",
       "      <td>71.18</td>\n",
       "      <td>Tim Hortons #947751</td>\n",
       "      <td>US</td>\n",
       "      <td>US</td>\n",
       "      <td>02</td>\n",
       "      <td>01</td>\n",
       "      <td>...</td>\n",
       "      <td>2015-08-06</td>\n",
       "      <td>885</td>\n",
       "      <td>885</td>\n",
       "      <td>3143</td>\n",
       "      <td>PURCHASE</td>\n",
       "      <td>0.00</td>\n",
       "      <td>True</td>\n",
       "      <td>False</td>\n",
       "      <td>False</td>\n",
       "      <td>2016-03-24</td>\n",
       "    </tr>\n",
       "    <tr>\n",
       "      <th>...</th>\n",
       "      <td>...</td>\n",
       "      <td>...</td>\n",
       "      <td>...</td>\n",
       "      <td>...</td>\n",
       "      <td>...</td>\n",
       "      <td>...</td>\n",
       "      <td>...</td>\n",
       "      <td>...</td>\n",
       "      <td>...</td>\n",
       "      <td>...</td>\n",
       "      <td>...</td>\n",
       "      <td>...</td>\n",
       "      <td>...</td>\n",
       "      <td>...</td>\n",
       "      <td>...</td>\n",
       "      <td>...</td>\n",
       "      <td>...</td>\n",
       "      <td>...</td>\n",
       "      <td>...</td>\n",
       "      <td>...</td>\n",
       "      <td>...</td>\n",
       "    </tr>\n",
       "    <tr>\n",
       "      <th>786358</th>\n",
       "      <td>732852505</td>\n",
       "      <td>732852505</td>\n",
       "      <td>50000</td>\n",
       "      <td>48904.96</td>\n",
       "      <td>119.92</td>\n",
       "      <td>Lyft</td>\n",
       "      <td>US</td>\n",
       "      <td>US</td>\n",
       "      <td>90</td>\n",
       "      <td>01</td>\n",
       "      <td>...</td>\n",
       "      <td>2012-08-23</td>\n",
       "      <td>936</td>\n",
       "      <td>936</td>\n",
       "      <td>3783</td>\n",
       "      <td>PURCHASE</td>\n",
       "      <td>1095.04</td>\n",
       "      <td>False</td>\n",
       "      <td>False</td>\n",
       "      <td>False</td>\n",
       "      <td>2016-12-22</td>\n",
       "    </tr>\n",
       "    <tr>\n",
       "      <th>786359</th>\n",
       "      <td>732852505</td>\n",
       "      <td>732852505</td>\n",
       "      <td>50000</td>\n",
       "      <td>48785.04</td>\n",
       "      <td>18.89</td>\n",
       "      <td>hulu.com</td>\n",
       "      <td>US</td>\n",
       "      <td>US</td>\n",
       "      <td>09</td>\n",
       "      <td>01</td>\n",
       "      <td>...</td>\n",
       "      <td>2012-08-23</td>\n",
       "      <td>939</td>\n",
       "      <td>939</td>\n",
       "      <td>3388</td>\n",
       "      <td>PURCHASE</td>\n",
       "      <td>1214.96</td>\n",
       "      <td>False</td>\n",
       "      <td>False</td>\n",
       "      <td>False</td>\n",
       "      <td>2016-12-25</td>\n",
       "    </tr>\n",
       "    <tr>\n",
       "      <th>786360</th>\n",
       "      <td>732852505</td>\n",
       "      <td>732852505</td>\n",
       "      <td>50000</td>\n",
       "      <td>48766.15</td>\n",
       "      <td>49.43</td>\n",
       "      <td>Lyft</td>\n",
       "      <td>US</td>\n",
       "      <td>US</td>\n",
       "      <td>02</td>\n",
       "      <td>01</td>\n",
       "      <td>...</td>\n",
       "      <td>2012-08-23</td>\n",
       "      <td>936</td>\n",
       "      <td>936</td>\n",
       "      <td>3783</td>\n",
       "      <td>PURCHASE</td>\n",
       "      <td>1233.85</td>\n",
       "      <td>False</td>\n",
       "      <td>False</td>\n",
       "      <td>False</td>\n",
       "      <td>2016-12-27</td>\n",
       "    </tr>\n",
       "    <tr>\n",
       "      <th>786361</th>\n",
       "      <td>732852505</td>\n",
       "      <td>732852505</td>\n",
       "      <td>50000</td>\n",
       "      <td>48716.72</td>\n",
       "      <td>49.89</td>\n",
       "      <td>walmart.com</td>\n",
       "      <td>US</td>\n",
       "      <td>US</td>\n",
       "      <td>09</td>\n",
       "      <td>99</td>\n",
       "      <td>...</td>\n",
       "      <td>2012-08-23</td>\n",
       "      <td>939</td>\n",
       "      <td>939</td>\n",
       "      <td>3388</td>\n",
       "      <td>PURCHASE</td>\n",
       "      <td>1283.28</td>\n",
       "      <td>False</td>\n",
       "      <td>False</td>\n",
       "      <td>False</td>\n",
       "      <td>2016-12-29</td>\n",
       "    </tr>\n",
       "    <tr>\n",
       "      <th>786362</th>\n",
       "      <td>732852505</td>\n",
       "      <td>732852505</td>\n",
       "      <td>50000</td>\n",
       "      <td>48666.83</td>\n",
       "      <td>72.18</td>\n",
       "      <td>Uber</td>\n",
       "      <td>US</td>\n",
       "      <td>US</td>\n",
       "      <td>05</td>\n",
       "      <td>01</td>\n",
       "      <td>...</td>\n",
       "      <td>2012-08-23</td>\n",
       "      <td>939</td>\n",
       "      <td>939</td>\n",
       "      <td>3388</td>\n",
       "      <td>PURCHASE</td>\n",
       "      <td>1333.17</td>\n",
       "      <td>False</td>\n",
       "      <td>False</td>\n",
       "      <td>False</td>\n",
       "      <td>2016-12-30</td>\n",
       "    </tr>\n",
       "  </tbody>\n",
       "</table>\n",
       "<p>780760 rows × 23 columns</p>\n",
       "</div>"
      ],
      "text/plain": [
       "        accountNumber  customerId  creditLimit  availableMoney  \\\n",
       "0           737265056   737265056         5000         5000.00   \n",
       "1           737265056   737265056         5000         5000.00   \n",
       "2           737265056   737265056         5000         5000.00   \n",
       "3           737265056   737265056         5000         5000.00   \n",
       "4           830329091   830329091         5000         5000.00   \n",
       "...               ...         ...          ...             ...   \n",
       "786358      732852505   732852505        50000        48904.96   \n",
       "786359      732852505   732852505        50000        48785.04   \n",
       "786360      732852505   732852505        50000        48766.15   \n",
       "786361      732852505   732852505        50000        48716.72   \n",
       "786362      732852505   732852505        50000        48666.83   \n",
       "\n",
       "        transactionAmount         merchantName acqCountry merchantCountryCode  \\\n",
       "0                   98.55                 Uber         US                  US   \n",
       "1                   74.51          AMC #191138         US                  US   \n",
       "2                    7.47           Play Store         US                  US   \n",
       "3                    7.47           Play Store         US                  US   \n",
       "4                   71.18  Tim Hortons #947751         US                  US   \n",
       "...                   ...                  ...        ...                 ...   \n",
       "786358             119.92                 Lyft         US                  US   \n",
       "786359              18.89             hulu.com         US                  US   \n",
       "786360              49.43                 Lyft         US                  US   \n",
       "786361              49.89          walmart.com         US                  US   \n",
       "786362              72.18                 Uber         US                  US   \n",
       "\n",
       "       posEntryMode posConditionCode  ... dateOfLastAddressChange cardCVV  \\\n",
       "0                02               01  ...              2015-03-14     414   \n",
       "1                09               01  ...              2015-03-14     486   \n",
       "2                09               01  ...              2015-03-14     486   \n",
       "3                09               01  ...              2015-03-14     486   \n",
       "4                02               01  ...              2015-08-06     885   \n",
       "...             ...              ...  ...                     ...     ...   \n",
       "786358           90               01  ...              2012-08-23     936   \n",
       "786359           09               01  ...              2012-08-23     939   \n",
       "786360           02               01  ...              2012-08-23     936   \n",
       "786361           09               99  ...              2012-08-23     939   \n",
       "786362           05               01  ...              2012-08-23     939   \n",
       "\n",
       "       enteredCVV cardLast4Digits  transactionType  currentBalance  \\\n",
       "0             414            1803         PURCHASE            0.00   \n",
       "1             486             767         PURCHASE            0.00   \n",
       "2             486             767         PURCHASE            0.00   \n",
       "3             486             767         PURCHASE            0.00   \n",
       "4             885            3143         PURCHASE            0.00   \n",
       "...           ...             ...              ...             ...   \n",
       "786358        936            3783         PURCHASE         1095.04   \n",
       "786359        939            3388         PURCHASE         1214.96   \n",
       "786360        936            3783         PURCHASE         1233.85   \n",
       "786361        939            3388         PURCHASE         1283.28   \n",
       "786362        939            3388         PURCHASE         1333.17   \n",
       "\n",
       "        cardPresent expirationDateKeyInMatch  isFraud  transactionDate  \n",
       "0             False                    False    False       2016-08-13  \n",
       "1              True                    False    False       2016-10-11  \n",
       "2             False                    False    False       2016-11-08  \n",
       "3             False                    False    False       2016-12-10  \n",
       "4              True                    False    False       2016-03-24  \n",
       "...             ...                      ...      ...              ...  \n",
       "786358        False                    False    False       2016-12-22  \n",
       "786359        False                    False    False       2016-12-25  \n",
       "786360        False                    False    False       2016-12-27  \n",
       "786361        False                    False    False       2016-12-29  \n",
       "786362        False                    False    False       2016-12-30  \n",
       "\n",
       "[780760 rows x 23 columns]"
      ]
     },
     "execution_count": 30,
     "metadata": {},
     "output_type": "execute_result"
    }
   ],
   "source": [
    "grouped.head(10)"
   ]
  },
  {
   "cell_type": "code",
   "execution_count": 266,
   "id": "ab1426d8",
   "metadata": {},
   "outputs": [],
   "source": [
    "sorted_transactions.reset_index(drop = True, inplace = True)"
   ]
  },
  {
   "cell_type": "code",
   "execution_count": 267,
   "id": "ecb25f0e",
   "metadata": {},
   "outputs": [],
   "source": [
    "#### import pandas as pd\n",
    "import numpy as np\n",
    "from datetime import timedelta\n",
    "\n",
    "# Group the transactions by Card_ID, Merchant_ID, and Transaction_Date\n",
    "#grouped = df.groupby(['customerId', 'merchantName', 'transactionDate'])\n",
    "\n",
    "# Sort the transactions within each group by Transaction_Date\n",
    "#sorted_transactions = grouped.apply(lambda x: x.sort_values('transactionDate'))\n",
    "# Initialize counters for reversed and multi-swipe transactions\n",
    "reversed_transactions_count = []\n",
    "reversed_transactions_amount = 0\n",
    "multi_swipe_transactions_count = 0\n",
    "multi_swipe_transactions_amount = []\n",
    "\n",
    "# Loop through each group of transactions\n",
    "for name, group in sorted_transactions.groupby(['customerId', 'merchantName', 'transactionDate']):\n",
    "    # Initialize a variable to store the previous transaction amount\n",
    "    prev_amount = np.nan\n",
    "    # Initialize a variable to store the previous transaction date\n",
    "    prev_date = np.datetime64('NaT')\n",
    "\n",
    "    # Loop through each transaction in the group\n",
    "    for index, row in group.iterrows():\n",
    "        #print(index,row)\n",
    "        # Check if the current transaction is a reversed transaction\n",
    "        if prev_amount == row['transactionAmount'] and np.abs((pd.to_datetime(row['transactionDate']) - pd.to_datetime(prev_date)).total_seconds()) <= 86400 and row['transactionType']!= 'REVERSE':\n",
    "            multi_swipe_transactions_count += 1\n",
    "            multi_swipe_transactions_amount.append(row['transactionAmount'])\n",
    "\n",
    "        prev_amount = row['transactionAmount']\n",
    "        prev_date = row['transactionDate']"
   ]
  },
  {
   "cell_type": "code",
   "execution_count": 271,
   "id": "d87e41cc",
   "metadata": {},
   "outputs": [
    {
     "name": "stdout",
     "output_type": "stream",
     "text": [
      "The summ of all multi_swipe_transaction is:  1919822\n"
     ]
    }
   ],
   "source": [
    "\n",
    "jj=0\n",
    "for i in multi_swipe_transactions_amount:\n",
    "    jj+=int(i)\n",
    "print(\"The summ of all multi_swipe_transaction is: \" + \" \" + str(jj))"
   ]
  },
  {
   "cell_type": "code",
   "execution_count": 52,
   "id": "2b0167d1",
   "metadata": {},
   "outputs": [
    {
     "data": {
      "text/plain": [
       "13400"
      ]
     },
     "execution_count": 52,
     "metadata": {},
     "output_type": "execute_result"
    }
   ],
   "source": [
    "multi_swipe_transactions_count "
   ]
  },
  {
   "cell_type": "markdown",
   "id": "cf70bab8",
   "metadata": {},
   "source": [
    "#Reversed and milti-swipe transaction\n",
    "Based on the output, we can see that there were 20303 reversed transactions with a total dollar amount of 2821792.5, and 13400 multi-swipe transactions with a total dollar amount of 1919822.\n"
   ]
  },
  {
   "cell_type": "markdown",
   "id": "963c4866",
   "metadata": {},
   "source": [
    "# Question 4"
   ]
  },
  {
   "cell_type": "code",
   "execution_count": 272,
   "id": "decb9052",
   "metadata": {},
   "outputs": [],
   "source": [
    "# Drop the rows with missing values\n",
    "df.dropna(inplace=True)"
   ]
  },
  {
   "cell_type": "code",
   "execution_count": 198,
   "id": "4ffc7e76",
   "metadata": {},
   "outputs": [
    {
     "name": "stdout",
     "output_type": "stream",
     "text": [
      "                          accountNumber  customerId  creditLimit  \\\n",
      "accountNumber                  1.000000    1.000000     0.141070   \n",
      "customerId                     1.000000    1.000000     0.141070   \n",
      "creditLimit                    0.141070    0.141070     1.000000   \n",
      "availableMoney                 0.066760    0.066760     0.834845   \n",
      "transactionAmount             -0.001143   -0.001143     0.005721   \n",
      "cardCVV                       -0.011430   -0.011430     0.051465   \n",
      "enteredCVV                    -0.011389   -0.011389     0.051536   \n",
      "cardLast4Digits                0.038673    0.038673     0.126154   \n",
      "currentBalance                 0.162361    0.162361     0.654006   \n",
      "cardPresent                    0.006203    0.006203    -0.003874   \n",
      "expirationDateKeyInMatch      -0.001187   -0.001187     0.002353   \n",
      "isFraud                       -0.003614   -0.003614     0.003423   \n",
      "\n",
      "                          availableMoney  transactionAmount   cardCVV  \\\n",
      "accountNumber                   0.066760          -0.001143 -0.011430   \n",
      "customerId                      0.066760          -0.001143 -0.011430   \n",
      "creditLimit                     0.834845           0.005721  0.051465   \n",
      "availableMoney                  1.000000          -0.009897  0.016794   \n",
      "transactionAmount              -0.009897           1.000000 -0.000457   \n",
      "cardCVV                         0.016794          -0.000457  1.000000   \n",
      "enteredCVV                      0.016857          -0.000379  0.996031   \n",
      "cardLast4Digits                 0.074539          -0.001855 -0.011751   \n",
      "currentBalance                  0.129558           0.023906  0.069623   \n",
      "cardPresent                     0.002400           0.037346 -0.045519   \n",
      "expirationDateKeyInMatch        0.004229           0.001931 -0.000493   \n",
      "isFraud                        -0.001377           0.074359  0.008536   \n",
      "\n",
      "                          enteredCVV  cardLast4Digits  currentBalance  \\\n",
      "accountNumber              -0.011389         0.038673        0.162361   \n",
      "customerId                 -0.011389         0.038673        0.162361   \n",
      "creditLimit                 0.051536         0.126154        0.654006   \n",
      "availableMoney              0.016857         0.074539        0.129558   \n",
      "transactionAmount          -0.000379        -0.001855        0.023906   \n",
      "cardCVV                     0.996031        -0.011751        0.069623   \n",
      "enteredCVV                  1.000000        -0.011616        0.069665   \n",
      "cardLast4Digits            -0.011616         1.000000        0.124804   \n",
      "currentBalance              0.069665         0.124804        1.000000   \n",
      "cardPresent                -0.045308         0.040904       -0.010277   \n",
      "expirationDateKeyInMatch   -0.000274         0.002015       -0.001573   \n",
      "isFraud                     0.008503         0.000752        0.008059   \n",
      "\n",
      "                          cardPresent  expirationDateKeyInMatch   isFraud  \n",
      "accountNumber                0.006203                 -0.001187 -0.003614  \n",
      "customerId                   0.006203                 -0.001187 -0.003614  \n",
      "creditLimit                 -0.003874                  0.002353  0.003423  \n",
      "availableMoney               0.002400                  0.004229 -0.001377  \n",
      "transactionAmount            0.037346                  0.001931  0.074359  \n",
      "cardCVV                     -0.045519                 -0.000493  0.008536  \n",
      "enteredCVV                  -0.045308                 -0.000274  0.008503  \n",
      "cardLast4Digits              0.040904                  0.002015  0.000752  \n",
      "currentBalance              -0.010277                 -0.001573  0.008059  \n",
      "cardPresent                  1.000000                  0.040312 -0.042761  \n",
      "expirationDateKeyInMatch     0.040312                  1.000000 -0.000808  \n",
      "isFraud                     -0.042761                 -0.000808  1.000000  \n"
     ]
    }
   ],
   "source": [
    "correlation = df.corr()\n",
    "print(correlation)"
   ]
  },
  {
   "cell_type": "code",
   "execution_count": 274,
   "id": "ed73b5c7",
   "metadata": {},
   "outputs": [],
   "source": [
    "import matplotlib.pyplot as plt\n",
    "import seaborn as sns\n",
    "\n",
    "# Plotting a histogram for numeric data\n",
    "def plot_numeric_data(data, column, title):\n",
    "    sns.histplot(data[column], kde=True, color='b')\n",
    "    plt.title(title)\n",
    "    plt.xlabel(column)\n",
    "    plt.ylabel('Counts')\n",
    "    plt.show()\n",
    "\n",
    "# Plotting a bar plot for categorical data\n",
    "def plot_categorical_data(data, column, title):\n",
    "    sns.countplot(x=column, data=data)\n",
    "    plt.title(title)\n",
    "    plt.xlabel(column)\n",
    "    plt.ylabel('Counts')\n",
    "    plt.xticks(rotation=90)\n",
    "    plt.show()\n",
    "\n",
    "# Plotting a scatter plot for bool data\n",
    "def plot_bool_data(data, column, title):\n",
    "    sns.scatterplot(x=data.index, y=column, data=data)\n",
    "    plt.title(title)\n",
    "    plt.xlabel('Index')\n",
    "    plt.ylabel(column)\n",
    "    plt.show()\n",
    "\n",
    "# Function to plot different data types in the dataset\n",
    "def plot_transaction_data(data):\n",
    "    for col in data.columns:\n",
    "        if data[col].dtype == 'int64':\n",
    "            plot_numeric_data(data, col, 'Histogram of ' + col)\n",
    "        elif data[col].dtype == 'object':\n",
    "            plot_categorical_data(data, col, 'Bar Plot of ' + col)\n",
    "        elif data[col].dtype == 'bool':\n",
    "            plot_bool_data(data, col, 'Scatter Plot of ' + col)\n"
   ]
  },
  {
   "cell_type": "code",
   "execution_count": 275,
   "id": "d40942ce",
   "metadata": {},
   "outputs": [
    {
     "data": {
      "image/png": "[encoded data removed]",
      "text/plain": [
       "<Figure size 432x288 with 1 Axes>"
      ]
     },
     "metadata": {
      "needs_background": "light"
     },
     "output_type": "display_data"
    },
    {
     "data": {
      "image/png": "[encoded data removed]",
      "text/plain": [
       "<Figure size 432x288 with 1 Axes>"
      ]
     },
     "metadata": {
      "needs_background": "light"
     },
     "output_type": "display_data"
    },
    {
     "data": {
      "image/png": "[encoded data removed]",
      "text/plain": [
       "<Figure size 432x288 with 1 Axes>"
      ]
     },
     "metadata": {
      "needs_background": "light"
     },
     "output_type": "display_data"
    },
    {
     "data": {
      "image/png": "[encoded data removed]",
      "text/plain": [
       "<Figure size 432x288 with 1 Axes>"
      ]
     },
     "metadata": {
      "needs_background": "light"
     },
     "output_type": "display_data"
    },
    {
     "data": {
      "image/png": "[encoded data removed]",
      "text/plain": [
       "<Figure size 432x288 with 1 Axes>"
      ]
     },
     "metadata": {
      "needs_background": "light"
     },
     "output_type": "display_data"
    },
    {
     "data": {
      "image/png": "[encoded data removed]",
      "text/plain": [
       "<Figure size 432x288 with 1 Axes>"
      ]
     },
     "metadata": {
      "needs_background": "light"
     },
     "output_type": "display_data"
    },
    {
     "data": {
      "image/png": "[encoded data removed]",
      "text/plain": [
       "<Figure size 432x288 with 1 Axes>"
      ]
     },
     "metadata": {
      "needs_background": "light"
     },
     "output_type": "display_data"
    },
    {
     "data": {
      "image/png": "[encoded data removed]",
      "text/plain": [
       "<Figure size 432x288 with 1 Axes>"
      ]
     },
     "metadata": {
      "needs_background": "light"
     },
     "output_type": "display_data"
    },
    {
     "data": {
      "image/png": "[encoded data removed]",
      "text/plain": [
       "<Figure size 432x288 with 1 Axes>"
      ]
     },
     "metadata": {
      "needs_background": "light"
     },
     "output_type": "display_data"
    },
    {
     "data": {
      "image/png": "[encoded data removed]",
      "text/plain": [
       "<Figure size 432x288 with 1 Axes>"
      ]
     },
     "metadata": {
      "needs_background": "light"
     },
     "output_type": "display_data"
    },
    {
     "data": {
      "image/png": "[encoded data removed]",
      "text/plain": [
       "<Figure size 432x288 with 1 Axes>"
      ]
     },
     "metadata": {
      "needs_background": "light"
     },
     "output_type": "display_data"
    },
    {
     "data": {
      "image/png": "[encoded data removed]",
      "text/plain": [
       "<Figure size 432x288 with 1 Axes>"
      ]
     },
     "metadata": {
      "needs_background": "light"
     },
     "output_type": "display_data"
    },
    {
     "data": {
      "image/png": "[encoded data removed]",
      "text/plain": [
       "<Figure size 432x288 with 1 Axes>"
      ]
     },
     "metadata": {
      "needs_background": "light"
     },
     "output_type": "display_data"
    },
    {
     "data": {
      "image/png": "[encoded data removed]",
      "text/plain": [
       "<Figure size 432x288 with 1 Axes>"
      ]
     },
     "metadata": {
      "needs_background": "light"
     },
     "output_type": "display_data"
    },
    {
     "data": {
      "image/png": "[encoded data removed]",
      "text/plain": [
       "<Figure size 432x288 with 1 Axes>"
      ]
     },
     "metadata": {
      "needs_background": "light"
     },
     "output_type": "display_data"
    },
    {
     "data": {
      "image/png": "[encoded data removed]",
      "text/plain": [
       "<Figure size 432x288 with 1 Axes>"
      ]
     },
     "metadata": {
      "needs_background": "light"
     },
     "output_type": "display_data"
    },
    {
     "data": {
      "image/png": "[encoded data removed]",
      "text/plain": [
       "<Figure size 432x288 with 1 Axes>"
      ]
     },
     "metadata": {
      "needs_background": "light"
     },
     "output_type": "display_data"
    },
    {
     "data": {
      "image/png": "[encoded data removed]",
      "text/plain": [
       "<Figure size 432x288 with 1 Axes>"
      ]
     },
     "metadata": {
      "needs_background": "light"
     },
     "output_type": "display_data"
    },
    {
     "data": {
      "image/png": "[encoded data removed]",
      "text/plain": [
       "<Figure size 432x288 with 1 Axes>"
      ]
     },
     "metadata": {
      "needs_background": "light"
     },
     "output_type": "display_data"
    },
    {
     "data": {
      "image/png": "[encoded data removed]",
      "text/plain": [
       "<Figure size 432x288 with 1 Axes>"
      ]
     },
     "metadata": {
      "needs_background": "light"
     },
     "output_type": "display_data"
    }
   ],
   "source": [
    "plot_transaction_data(df)"
   ]
  },
  {
   "cell_type": "code",
   "execution_count": 278,
   "id": "b4738a17",
   "metadata": {},
   "outputs": [],
   "source": [
    "df_new=df.copy()"
   ]
  },
  {
   "cell_type": "code",
   "execution_count": 285,
   "id": "f5f69403",
   "metadata": {},
   "outputs": [
    {
     "name": "stdout",
     "output_type": "stream",
     "text": [
      "Index(['accountNumber', 'customerId', 'creditLimit', 'availableMoney',\n",
      "       'transactionAmount', 'merchantName', 'acqCountry',\n",
      "       'merchantCountryCode', 'posEntryMode', 'posConditionCode',\n",
      "       'merchantCategoryCode', 'currentExpDate', 'accountOpenDate',\n",
      "       'dateOfLastAddressChange', 'cardCVV', 'enteredCVV', 'cardLast4Digits',\n",
      "       'transactionType', 'currentBalance', 'cardPresent',\n",
      "       'expirationDateKeyInMatch', 'isFraud', 'transactionDate', 'year',\n",
      "       'month', 'day_of_week'],\n",
      "      dtype='object')\n"
     ]
    }
   ],
   "source": [
    "col_names = df_new.columns\n",
    "print(col_names)"
   ]
  },
  {
   "cell_type": "code",
   "execution_count": 282,
   "id": "5bc0dcc0",
   "metadata": {},
   "outputs": [],
   "source": [
    "df_new['transactionDate'] = pd.to_datetime(df_new['transactionDate'], format='%Y-%m-%d')\n",
    "df_new['year'] = df_new['transactionDate'].dt.year\n",
    "df_new['month'] = df_new['transactionDate'].dt.month\n",
    "df_new['day_of_week'] = df_new['transactionDate'].dt.dayofweek\n"
   ]
  },
  {
   "cell_type": "code",
   "execution_count": 283,
   "id": "f096e0a8",
   "metadata": {},
   "outputs": [],
   "source": [
    "df_new['year'] = df_new['year'].astype('category')\n",
    "df_new['month'] = df_new['month'].astype('category')\n",
    "df_new['day_of_week'] = df_new['day_of_week'].astype('category')\n"
   ]
  },
  {
   "cell_type": "code",
   "execution_count": 284,
   "id": "57c18dc8",
   "metadata": {},
   "outputs": [],
   "source": [
    "# first we need to extract the account numbers from the dataset\n",
    "account_numbers = df_new['accountNumber'].unique()\n",
    "\n",
    "# we will create a dictionary to map each account number to an integer\n",
    "account_number_mapping = {account_number: index for index, account_number in enumerate(account_numbers)}\n",
    "\n",
    "# next we will use the map function to convert the account numbers in the dataset to integers\n",
    "df_new['accountNumber'] = df_new['accountNumber'].map(account_number_mapping)\n"
   ]
  },
  {
   "cell_type": "raw",
   "id": "a3981c1e",
   "metadata": {},
   "source": [
    "I did some data wrangling to see the possibility of using the unique account numbers as a predictor in the modelling, but thats going to cause a bias as a result of curse of dimensionality.But I am able to work around the date, and I will be using it."
   ]
  },
  {
   "cell_type": "code",
   "execution_count": 288,
   "id": "83b105e6",
   "metadata": {},
   "outputs": [],
   "source": [
    "df=df_new.copy()"
   ]
  },
  {
   "cell_type": "code",
   "execution_count": 290,
   "id": "4b32fd28",
   "metadata": {},
   "outputs": [],
   "source": [
    "df.drop(['cardLast4Digits','merchantName','accountOpenDate','transactionDate','currentExpDate','customerId','dateOfLastAddressChange','accountNumber','enteredCVV',\n",
    "'cardCVV'], inplace=True, axis=1)"
   ]
  },
  {
   "cell_type": "code",
   "execution_count": 291,
   "id": "637da0e1",
   "metadata": {},
   "outputs": [
    {
     "name": "stdout",
     "output_type": "stream",
     "text": [
      "creditLimit                     10\n",
      "availableMoney              517320\n",
      "transactionAmount            65851\n",
      "acqCountry                       4\n",
      "merchantCountryCode              4\n",
      "posEntryMode                     5\n",
      "posConditionCode                 3\n",
      "merchantCategoryCode            19\n",
      "transactionType                  3\n",
      "currentBalance              483290\n",
      "cardPresent                      2\n",
      "expirationDateKeyInMatch         2\n",
      "isFraud                          2\n",
      "year                             1\n",
      "month                           12\n",
      "day_of_week                      7\n",
      "dtype: int64\n"
     ]
    }
   ],
   "source": [
    "print(df.nunique())"
   ]
  },
  {
   "cell_type": "code",
   "execution_count": 292,
   "id": "a111eda9",
   "metadata": {},
   "outputs": [
    {
     "name": "stdout",
     "output_type": "stream",
     "text": [
      "creditLimit                    int64\n",
      "availableMoney               float64\n",
      "transactionAmount            float64\n",
      "acqCountry                    object\n",
      "merchantCountryCode           object\n",
      "posEntryMode                  object\n",
      "posConditionCode              object\n",
      "merchantCategoryCode          object\n",
      "transactionType               object\n",
      "currentBalance               float64\n",
      "cardPresent                     bool\n",
      "expirationDateKeyInMatch        bool\n",
      "isFraud                         bool\n",
      "year                        category\n",
      "month                       category\n",
      "day_of_week                 category\n",
      "dtype: object\n"
     ]
    }
   ],
   "source": [
    "# Find the data types of all columns\n",
    "column_types = df.dtypes\n",
    "\n",
    "# Print the data types of all columns\n",
    "print(column_types)"
   ]
  },
  {
   "cell_type": "code",
   "execution_count": 293,
   "id": "9220635a",
   "metadata": {},
   "outputs": [],
   "source": [
    "import pandas as pd\n",
    "from sklearn.preprocessing import LabelEncoder\n",
    "\n",
    "# Create a LabelEncoder object\n",
    "encoder = LabelEncoder()\n",
    "\n",
    "# Transform the target column (isFraud) using the fit_transform method\n",
    "df['isFraud'] = encoder.fit_transform(df['isFraud'])\n"
   ]
  },
  {
   "cell_type": "code",
   "execution_count": 294,
   "id": "f56143e0",
   "metadata": {},
   "outputs": [
    {
     "data": {
      "text/plain": [
       "0    0\n",
       "1    0\n",
       "2    0\n",
       "3    0\n",
       "4    0\n",
       "Name: isFraud, dtype: int64"
      ]
     },
     "execution_count": 294,
     "metadata": {},
     "output_type": "execute_result"
    }
   ],
   "source": [
    "df['isFraud'].head()"
   ]
  },
  {
   "cell_type": "code",
   "execution_count": 295,
   "id": "68f82c2d",
   "metadata": {},
   "outputs": [],
   "source": [
    "X = df.drop(columns=[\"isFraud\"])\n",
    "y = df[\"isFraud\"]"
   ]
  },
  {
   "cell_type": "code",
   "execution_count": 296,
   "id": "0fc08209",
   "metadata": {},
   "outputs": [
    {
     "data": {
      "text/plain": [
       "0    0\n",
       "1    0\n",
       "2    0\n",
       "3    0\n",
       "4    0\n",
       "Name: isFraud, dtype: int64"
      ]
     },
     "execution_count": 296,
     "metadata": {},
     "output_type": "execute_result"
    }
   ],
   "source": [
    "y.head()"
   ]
  },
  {
   "cell_type": "code",
   "execution_count": null,
   "id": "e680b182",
   "metadata": {},
   "outputs": [],
   "source": [
    "\"year\",\"month\",\"day_of_week\"               "
   ]
  },
  {
   "cell_type": "code",
   "execution_count": 297,
   "id": "671e4ee5",
   "metadata": {},
   "outputs": [],
   "source": [
    "import pandas as pd\n",
    "\n",
    "# Perform one-hot encoding on the categorical column\n",
    "one_hot_encoded = pd.get_dummies(X,columns = [\"acqCountry\",\"merchantCountryCode\",\"posEntryMode\",\"posConditionCode\",\"merchantCategoryCode\",\"transactionType\",\"cardPresent\",\"expirationDateKeyInMatch\",\"year\",\"month\",\"day_of_week\"])\n",
    "\n",
    "# Concatenate the encoded columns with the original DataFrame\n",
    "X = pd.concat([X, one_hot_encoded], axis=1)\n",
    "\n",
    "# Drop the original categorical column\n",
    "X = X.drop(columns=[\"acqCountry\",\"merchantCountryCode\",\"posEntryMode\",\"posConditionCode\",\"merchantCategoryCode\",\"transactionType\",\"cardPresent\",\"expirationDateKeyInMatch\",\"year\",\"month\",\"day_of_week\"])\n",
    "\n",
    "\n",
    "\n"
   ]
  },
  {
   "cell_type": "code",
   "execution_count": 315,
   "id": "fc39d464",
   "metadata": {},
   "outputs": [],
   "source": [
    "X_new=X.copy()"
   ]
  },
  {
   "cell_type": "code",
   "execution_count": 317,
   "id": "20f2846d",
   "metadata": {},
   "outputs": [],
   "source": [
    "X_new = X_new.loc[:, ~X_new.T.duplicated(keep='first')]"
   ]
  },
  {
   "cell_type": "code",
   "execution_count": 320,
   "id": "aad026db",
   "metadata": {},
   "outputs": [],
   "source": [
    "X=X_new.copy()"
   ]
  },
  {
   "cell_type": "code",
   "execution_count": 298,
   "id": "d22b987e",
   "metadata": {},
   "outputs": [
    {
     "data": {
      "text/plain": [
       "(776668,)"
      ]
     },
     "execution_count": 298,
     "metadata": {},
     "output_type": "execute_result"
    }
   ],
   "source": [
    "y.shape"
   ]
  },
  {
   "cell_type": "code",
   "execution_count": 299,
   "id": "22cc03ed",
   "metadata": {},
   "outputs": [
    {
     "data": {
      "text/plain": [
       "RandomForestClassifier(random_state=0)"
      ]
     },
     "execution_count": 299,
     "metadata": {},
     "output_type": "execute_result"
    }
   ],
   "source": [
    "import pandas as pd\n",
    "from sklearn.ensemble import RandomForestClassifier\n",
    "from sklearn.model_selection import train_test_split\n",
    "from sklearn.metrics import accuracy_score, precision_score, recall_score, f1_score\n",
    "\n",
    "# Split the data into training and testing sets\n",
    "X_train, X_test, y_train, y_test = train_test_split(X, y, test_size=0.2, random_state=0)\n",
    "\n",
    "# Train the Random Forest model\n",
    "model = RandomForestClassifier(n_estimators=100, random_state=0)\n",
    "model.fit(X_train, y_train)"
   ]
  },
  {
   "cell_type": "code",
   "execution_count": 300,
   "id": "7932ca5b",
   "metadata": {},
   "outputs": [
    {
     "name": "stdout",
     "output_type": "stream",
     "text": [
      "Accuracy: 0.9848069321590894\n",
      "Precision: 0.875\n",
      "Recall: 0.0029585798816568047\n",
      "F1-score: 0.005897219882055602\n"
     ]
    }
   ],
   "source": [
    "\n",
    "# Make predictions on the test set\n",
    "y_pred = model.predict(X_test)\n",
    "\n",
    "# Evaluate the model performance\n",
    "accuracy = accuracy_score(y_test, y_pred)\n",
    "precision = precision_score(y_test, y_pred,average='binary')\n",
    "recall = recall_score(y_test, y_pred, average='binary')\n",
    "f1 = f1_score(y_test, y_pred, average='binary')\n",
    "\n",
    "print(\"Accuracy:\", accuracy)\n",
    "print(\"Precision:\", precision)\n",
    "print(\"Recall:\", recall)\n",
    "print(\"F1-score:\", f1)\n"
   ]
  },
  {
   "cell_type": "raw",
   "id": "9f377c98",
   "metadata": {},
   "source": [
    "The results suggest that the model has a high accuracy of 0.98, which means that it correctly classifies 98% of the transactions in the data. However, the precision score of 0.875 indicates that only 87.5% of the transactions that the model predicts to be fraudulent are actually fraudulent, which may not be sufficient for a bank to take actions based on the model's predictions. Additionally, the recall score of 0.00296 means that only 0.296% of the actual fraudulent transactions are correctly detected by the model, which is very low and can result in significant financial losses for the bank. The low recall score also suggests that the model may be missing a lot of fraudulent transactions, which is not desirable. The F1-score of 0.00589 is a weighted average of precision and recall and reflects the overall performance of the model. The low value of the F1-score indicates that the performance of the model is not good, and there is room for improvement."
   ]
  },
  {
   "cell_type": "code",
   "execution_count": 302,
   "id": "cbf6e466",
   "metadata": {},
   "outputs": [
    {
     "name": "stdout",
     "output_type": "stream",
     "text": [
      "Accuracy: 0.9847683057154261\n"
     ]
    }
   ],
   "source": [
    "import pandas as pd\n",
    "from sklearn.linear_model import LogisticRegression\n",
    "from sklearn.model_selection import train_test_split\n",
    "from sklearn.metrics import accuracy_score, precision_score, recall_score, f1_score\n",
    "\n",
    "lr = LogisticRegression()\n",
    "lr.fit(X_train, y_train)\n",
    "\n",
    "# Make predictions on the test data\n",
    "y_pred = lr.predict(X_test)\n",
    "\n",
    "# Calculate the performance metrics\n",
    "accuracy = accuracy_score(y_test, y_pred)\n",
    "\n",
    "# Print the results\n",
    "print(\"Accuracy:\", accuracy)"
   ]
  },
  {
   "cell_type": "markdown",
   "id": "b26ff7e4",
   "metadata": {},
   "source": [
    "Considering the result we need to resample the data considering the data is imbalanced."
   ]
  },
  {
   "cell_type": "code",
   "execution_count": 304,
   "id": "33a330e6",
   "metadata": {},
   "outputs": [
    {
     "data": {
      "image/png": "[encoded data removed]",
      "text/plain": [
       "<Figure size 432x288 with 1 Axes>"
      ]
     },
     "metadata": {
      "needs_background": "light"
     },
     "output_type": "display_data"
    }
   ],
   "source": [
    "import pandas as pd\n",
    "import matplotlib.pyplot as plt\n",
    "\n",
    "\n",
    "# Plot the histogram\n",
    "plt.hist(df['isFraud'].astype(int))\n",
    "\n",
    "# Add labels and title\n",
    "plt.xlabel('isFraud')\n",
    "plt.ylabel('Frequency')\n",
    "plt.title('Histogram of isFraud')\n",
    "\n",
    "# Show the plot\n",
    "plt.show()"
   ]
  },
  {
   "cell_type": "code",
   "execution_count": null,
   "id": "3973fbde",
   "metadata": {},
   "outputs": [],
   "source": [
    "This clearly shows imbalanced data, which could lead to bias. we resample"
   ]
  },
  {
   "cell_type": "code",
   "execution_count": 321,
   "id": "439b58ca",
   "metadata": {},
   "outputs": [],
   "source": [
    "from sklearn.impute import SimpleImputer\n",
    "from sklearn.model_selection import train_test_split\n",
    "from sklearn.preprocessing import OneHotEncoder\n",
    "from sklearn.pipeline import Pipeline\n",
    "from sklearn.compose import ColumnTransformer\n",
    "from imblearn.under_sampling import RandomUnderSampler\n",
    "\n",
    "ros = RandomUnderSampler(random_state=0)\n",
    "X_resampled, y_resampled= ros.fit_resample(X, y)"
   ]
  },
  {
   "cell_type": "code",
   "execution_count": 323,
   "id": "f8591eed",
   "metadata": {},
   "outputs": [
    {
     "data": {
      "text/plain": [
       "Index(['creditLimit', 'availableMoney', 'transactionAmount', 'currentBalance',\n",
       "       'acqCountry_CAN', 'acqCountry_MEX', 'acqCountry_PR', 'acqCountry_US',\n",
       "       'merchantCountryCode_CAN', 'merchantCountryCode_MEX',\n",
       "       'merchantCountryCode_PR', 'merchantCountryCode_US', 'posEntryMode_02',\n",
       "       'posEntryMode_05', 'posEntryMode_09', 'posEntryMode_80',\n",
       "       'posEntryMode_90', 'posConditionCode_01', 'posConditionCode_08',\n",
       "       'posConditionCode_99', 'merchantCategoryCode_airline',\n",
       "       'merchantCategoryCode_auto', 'merchantCategoryCode_cable/phone',\n",
       "       'merchantCategoryCode_entertainment', 'merchantCategoryCode_fastfood',\n",
       "       'merchantCategoryCode_food', 'merchantCategoryCode_food_delivery',\n",
       "       'merchantCategoryCode_fuel', 'merchantCategoryCode_furniture',\n",
       "       'merchantCategoryCode_gym', 'merchantCategoryCode_health',\n",
       "       'merchantCategoryCode_hotels', 'merchantCategoryCode_mobileapps',\n",
       "       'merchantCategoryCode_online_gifts',\n",
       "       'merchantCategoryCode_online_retail',\n",
       "       'merchantCategoryCode_online_subscriptions',\n",
       "       'merchantCategoryCode_personal care', 'merchantCategoryCode_rideshare',\n",
       "       'merchantCategoryCode_subscriptions',\n",
       "       'transactionType_ADDRESS_VERIFICATION', 'transactionType_PURCHASE',\n",
       "       'transactionType_REVERSAL', 'cardPresent_False', 'cardPresent_True',\n",
       "       'expirationDateKeyInMatch_False', 'expirationDateKeyInMatch_True',\n",
       "       'year_2016', 'month_1', 'month_2', 'month_3', 'month_4', 'month_5',\n",
       "       'month_6', 'month_7', 'month_8', 'month_9', 'month_10', 'month_11',\n",
       "       'month_12', 'day_of_week_0', 'day_of_week_1', 'day_of_week_2',\n",
       "       'day_of_week_3', 'day_of_week_4', 'day_of_week_5', 'day_of_week_6'],\n",
       "      dtype='object')"
      ]
     },
     "execution_count": 323,
     "metadata": {},
     "output_type": "execute_result"
    }
   ],
   "source": [
    "X_resampled.columns"
   ]
  },
  {
   "cell_type": "code",
   "execution_count": 324,
   "id": "6bba588a",
   "metadata": {},
   "outputs": [
    {
     "data": {
      "image/png": "[encoded data removed]",
      "text/plain": [
       "<Figure size 432x288 with 1 Axes>"
      ]
     },
     "metadata": {
      "needs_background": "light"
     },
     "output_type": "display_data"
    }
   ],
   "source": [
    "import pandas as pd\n",
    "import matplotlib.pyplot as plt\n",
    "\n",
    "\n",
    "# Plot the histogram\n",
    "plt.hist( y_resampled.astype(int))\n",
    "\n",
    "# Add labels and title\n",
    "plt.xlabel('isFraud')\n",
    "plt.ylabel('Frequency')\n",
    "plt.title('Histogram of isFraud')\n",
    "\n",
    "# Show the plot\n",
    "plt.show()"
   ]
  },
  {
   "cell_type": "markdown",
   "id": "c3aa685d",
   "metadata": {},
   "source": [
    "From the above you can see that we have a balanced data "
   ]
  },
  {
   "cell_type": "code",
   "execution_count": 325,
   "id": "cd4f78e8",
   "metadata": {},
   "outputs": [
    {
     "data": {
      "text/plain": [
       "RandomForestClassifier(n_estimators=50, random_state=0)"
      ]
     },
     "execution_count": 325,
     "metadata": {},
     "output_type": "execute_result"
    }
   ],
   "source": [
    "import pandas as pd\n",
    "from sklearn.ensemble import RandomForestClassifier\n",
    "from sklearn.model_selection import train_test_split\n",
    "from sklearn.metrics import accuracy_score, precision_score, recall_score, f1_score\n",
    "\n",
    "# Split the data into training and testing sets\n",
    "X_train, X_test, y_train, y_test = train_test_split(X_resampled, y_resampled, test_size=0.2, random_state=0)\n",
    "\n",
    "# Train the Random Forest model\n",
    "model = RandomForestClassifier(n_estimators=50, random_state=0)\n",
    "model.fit(X_train, y_train)"
   ]
  },
  {
   "cell_type": "code",
   "execution_count": 326,
   "id": "a7d72fd0",
   "metadata": {},
   "outputs": [
    {
     "name": "stdout",
     "output_type": "stream",
     "text": [
      "Accuracy: 0.6912471276373512\n",
      "Precision: 0.6983849847228285\n",
      "Recall: 0.6702974444909929\n",
      "F1-score: 0.6840530141085934\n"
     ]
    }
   ],
   "source": [
    "# Make predictions on the test set\n",
    "y_pred_1= model.predict(X_test)\n",
    "\n",
    "# Evaluate the model performance\n",
    "accuracy = accuracy_score(y_test, y_pred_1)\n",
    "precision = precision_score(y_test, y_pred_1,average='binary')\n",
    "recall = recall_score(y_test, y_pred_1, average='binary')\n",
    "f1 = f1_score(y_test, y_pred_1, average='binary')\n",
    "\n",
    "print(\"Accuracy:\", accuracy)\n",
    "print(\"Precision:\", precision)\n",
    "print(\"Recall:\", recall)\n",
    "print(\"F1-score:\", f1)"
   ]
  },
  {
   "cell_type": "raw",
   "id": "ebfab86c",
   "metadata": {},
   "source": [
    "# The results that you have obtained after evaluating the random forest classifier for the transaction data can be interpreted as follows:\n",
    "\n",
    "Accuracy: 0.69 - This is the overall accuracy of the model, which means that the model was able to predict the target variable correctly for 69% of the observations in the test set.\n",
    "\n",
    "Precision: 0.698 - Precision measures the ability of the model to not label a negative observation as positive. In this case, the precision score of 0.698 means that out of all the positive predictions made by the model, 69.8% were actually positive.\n",
    "\n",
    "Recall: 0.68 - Recall measures the ability of the model to find all positive observations. The recall score of 0.679 means that the model was able to correctly identify 68.4% of all positive observations in the test set.\n",
    "\n",
    "F1-score: 0.684- The F1-score is the harmonic mean of precision and recall. The F1-score of 0.684 for this model indicates that it has a good balance between precision and recall.\n",
    "\n",
    "In general, these results suggest that the model has moderate accuracy in identifying fraudulent transactions, with a slightly higher focus on avoiding false positives.\n",
    "\n",
    "\n"
   ]
  },
  {
   "cell_type": "code",
   "execution_count": 327,
   "id": "97c1c858",
   "metadata": {},
   "outputs": [
    {
     "name": "stdout",
     "output_type": "stream",
     "text": [
      "Accuracy: 0.6799665761437226\n",
      "Precision: 0.6801517067003793\n",
      "Recall: 0.6761625471302891\n",
      "F1-score: 0.6781512605042017\n"
     ]
    }
   ],
   "source": [
    "import imblearn\n",
    "from imblearn.over_sampling import RandomOverSampler\n",
    "from sklearn.model_selection import train_test_split\n",
    "\n",
    "# Train the logistic regression model on the resampled data\n",
    "from sklearn.linear_model import LogisticRegression\n",
    "logreg = LogisticRegression()\n",
    "logreg.fit(X_train, y_train)\n",
    "\n",
    "# Evaluate the performance of the model on the test set\n",
    "from sklearn.metrics import accuracy_score, precision_score, recall_score, f1_score\n",
    "y_pred_2= logreg.predict(X_test)\n",
    "\n",
    "accuracy = accuracy_score(y_test, y_pred_2)\n",
    "precision = precision_score(y_test, y_pred_2)\n",
    "recall = recall_score(y_test, y_pred_2)\n",
    "f1 = f1_score(y_test, y_pred_2)\n",
    "\n",
    "print(\"Accuracy:\", accuracy)\n",
    "print(\"Precision:\", precision)\n",
    "print(\"Recall:\", recall)\n",
    "print(\"F1-score:\", f1)"
   ]
  },
  {
   "cell_type": "raw",
   "id": "5fa062d8",
   "metadata": {},
   "source": [
    "# The results from the logistic regression model show that the model's overall accuracy in classifying the transactions as either fraud or non-fraud is about 68%. The precision of the model, which is the ratio of true positive predictions to the sum of true and false positive predictions, is 68%. This means that out of all the transactions the model predicted as fraud, 67% of them were actually fraud. The recall of the model, which is the ratio of true positive predictions to the sum of true positive predictions and false negative predictions, is 68%. This means that out of all the fraud transactions in the dataset, the model was able to identify 68% of them. The F1-score, which is the harmonic mean of precision and recall, is 68%.\n",
    "\n",
    "These results suggest that the logistic regression model has room for improvement, particularly in its recall. The low recall means that many fraud transactions may go undetected, which can be a serious problem for a bank trying to prevent fraud. "
   ]
  },
  {
   "cell_type": "markdown",
   "id": "beacf719",
   "metadata": {},
   "source": [
    "# Variable Importance"
   ]
  },
  {
   "cell_type": "code",
   "execution_count": 329,
   "id": "d03d9d8c",
   "metadata": {},
   "outputs": [
    {
     "name": "stdout",
     "output_type": "stream",
     "text": [
      "                   Importance\n",
      "transactionAmount    0.194520\n",
      "currentBalance       0.136083\n",
      "availableMoney       0.133390\n",
      "creditLimit          0.067687\n",
      "posEntryMode_05      0.038305\n"
     ]
    }
   ],
   "source": [
    "# Import the required libraries\n",
    "import pandas as pd\n",
    "from sklearn.ensemble import RandomForestClassifier\n",
    "from sklearn.model_selection import train_test_split\n",
    "\n",
    "# Get the feature importances\n",
    "importances = model.feature_importances_\n",
    "\n",
    "# Create a dataframe to store the feature importances\n",
    "importances_df = pd.DataFrame(importances, index=X_resampled.columns, columns=[\"Importance\"])\n",
    "\n",
    "# Sort the feature importances in descending order\n",
    "importances_df.sort_values(by=\"Importance\", ascending=False, inplace=True)\n",
    "\n",
    "# Print the top 6 most important features\n",
    "print(importances_df.head(5))"
   ]
  },
  {
   "cell_type": "markdown",
   "id": "630bc3c7",
   "metadata": {},
   "source": [
    "# Conclusion"
   ]
  },
  {
   "cell_type": "raw",
   "id": "2421acd4",
   "metadata": {},
   "source": [
    "# Random Forest is a powerful and popular machine learning algorithm for classification problems, and it is well suited for fraud detection problems due to its ability to handle large amounts of data and non-linear relationships between features.\n",
    "Random Forest is an ensemble learning method that combines multiple decision trees to form a single model. Each tree in the ensemble is trained on a random subset of the data, and the final prediction is made by combining the predictions of all the trees. This provides the model with robustness and stability, as well as a mechanism for feature selection and feature importance computation.\n",
    "In comparison, logistic regression is a linear model that assumes a linear relationship between the features and the target variable. It can struggle to capture complex non-linear relationships in the data that may be present in fraud detection problems.\n",
    "Therefore, I chose Random Forest as the model for fraud detection in this scenario because of its ability to handle non-linear relationships, its robustness, and its simplicity and interpretability.\n",
    "\n",
    "Randomforest classifier performed better than logistic regression in fraud detection.\n",
    "Also the top three important variables are:Transaction amount, currentBalance,available money, creditLimit and posEntryMode\n",
    "\n",
    "If I had more time, i would do some hyperparameter tunning, and optimizations, I would also try other models that fits non-linear relationships."
   ]
  }
 ],
 "metadata": {
  "kernelspec": {
   "display_name": "Python 3 (ipykernel)",
   "language": "python",
   "name": "python3"
  },
  "language_info": {
   "codemirror_mode": {
    "name": "ipython",
    "version": 3
   },
   "file_extension": ".py",
   "mimetype": "text/x-python",
   "name": "python",
   "nbconvert_exporter": "python",
   "pygments_lexer": "ipython3",
   "version": "3.9.12"
  }
 },
 "nbformat": 4,
 "nbformat_minor": 5
}
